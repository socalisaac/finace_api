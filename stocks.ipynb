{
 "cells": [
  {
   "cell_type": "code",
   "execution_count": null,
   "id": "803358c1",
   "metadata": {},
   "outputs": [],
   "source": [
    "import matplotlib.pyplot as plt\n",
    "import pandas as pd\n",
    "\n",
    "ticker = \"nvda\"\n",
    "\n",
    "url = f\"https://stooq.com/q/d/l/?s={ticker}.us&i=d\"\n",
    "df = pd.read_csv(url)"
   ]
  },
  {
   "cell_type": "code",
   "execution_count": 89,
   "id": "605835e9",
   "metadata": {},
   "outputs": [
    {
     "name": "stderr",
     "output_type": "stream",
     "text": [
      "C:\\Users\\Miles\\AppData\\Local\\Temp\\ipykernel_2096\\120718809.py:14: FutureWarning: 'M' is deprecated and will be removed in a future version, please use 'ME' instead.\n",
      "  df.groupby(pd.Grouper(key=\"Date\", freq=\"M\"))\n"
     ]
    }
   ],
   "source": [
    "start_date = pd.Timestamp(\"2023-01-01\")\n",
    "\n",
    "# print the original dataframe\n",
    "df.to_csv(\"nvda_daily.csv\", index=False)\n",
    "\n",
    "# Ensure 'Date' is in datetime format\n",
    "df[\"Date\"] = pd.to_datetime(df[\"Date\"])\n",
    "\n",
    "# Filter for dates later than start_date\n",
    "df = df[df[\"Date\"] >= start_date]\n",
    "\n",
    "# Create the monthly average dataframe\n",
    "monthly_avg = (\n",
    "    df.groupby(pd.Grouper(key=\"Date\", freq=\"M\"))\n",
    "      .mean(numeric_only=True)\n",
    "      .reset_index()\n",
    ")\n",
    "\n",
    "# Sort the dataframe by date\n",
    "monthly_avg = monthly_avg.sort_values(\"Date\")\n",
    "\n",
    "# Add a MoM and cumulative % change column for all columns\n",
    "for col in monthly_avg.select_dtypes(include='number').columns:\n",
    "    monthly_avg[f\"{col}_mom_pct\"] = monthly_avg[col].pct_change() * 100\n",
    "    monthly_avg[f\"{col}_cumulative_pct\"] = (monthly_avg[col] / monthly_avg[col].iloc[0] - 1) * 100\n",
    "\n",
    "#add a 'Ticker' column\n",
    "monthly_avg['Ticker'] = ticker.upper()\n",
    "\n",
    "#move 'Ticker' column to be the second column\n",
    "cols = monthly_avg.columns.tolist()\n",
    "cols.remove('Ticker')\n",
    "monthly_avg = monthly_avg[[cols[0], 'Ticker'] + cols[1:]]\n",
    "\n",
    "monthly_avg.to_csv(\"nvda_monthly_avg_2023.csv\", index=True)"
   ]
  }
 ],
 "metadata": {
  "kernelspec": {
   "display_name": "finAPI",
   "language": "python",
   "name": "python3"
  },
  "language_info": {
   "codemirror_mode": {
    "name": "ipython",
    "version": 3
   },
   "file_extension": ".py",
   "mimetype": "text/x-python",
   "name": "python",
   "nbconvert_exporter": "python",
   "pygments_lexer": "ipython3",
   "version": "3.11.13"
  }
 },
 "nbformat": 4,
 "nbformat_minor": 5
}
